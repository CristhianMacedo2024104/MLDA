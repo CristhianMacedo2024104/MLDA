{
 "cells": [
  {
   "cell_type": "markdown",
   "id": "6e3aef51",
   "metadata": {},
   "source": [
    "<h1> Residential Zoned Land Tax Annual Draft Map for 2025 </h1>\n",
    "\n",
    "- Published by: Department of Housing, Local Government, and Heritage\n",
    "- Licensed under: cc-zero\n",
    "- Category: Housing\n",
    "- Views: 26\n",
    "- Openness rating: 3 stars\n",
    "\n",
    "<b>Description:</b> <br>\n",
    "The Government’s  Housing For All – A New Housing Plan for Ireland  proposed a new tax to activate vacant land for residential purposes as a part of the Pathway to Increasing New Housing Supply. The Residential Zoned Land Tax was introduced by the  Finance Act 2021. The dataset contains the land identified as being covered by the tax from all of the local authorities in the state.  The available datasets will comprise the draft annual map, published on 1 February 2024.  The draft map dataset published 1 November 2022, the supplemental map dataset published 1 May 2023 and the final map published 1 December 2023 are also available, however the annual draft map represents the most recent dataset of land identified as either being in-scope for the tax, or proposed to be removed from the map due to not meeting the criteria.  The dataset will identify serviced land in cities, towns and villages which is residentially zoned and ‘vacant or idle’ mixed use land. Unless specifically identified for removal, the lands identified on the maps are considered capable of increasing housing supply as they meet the criteria for inclusion in the tax. Certain settlements will not be identified due to lack of capacity or services or due to out of date zonings. The dataset will also identify the amount in hectares of zoned serviced land for each settlement.\n",
    "\n",
    "Reference:\n",
    "\n",
    "Government of Ireland (2024). Residential Zoned Land Tax Annual Draft Map for 2025 - data.gov.ie. [online] data.gov.ie. Available at: https://data.gov.ie/dataset/residential-zoned-land-tax-annual-draft-map-for-2025 [Accessed 15 Mar. 2024]."
   ]
  },
  {
   "cell_type": "markdown",
   "id": "a03f4f1f",
   "metadata": {},
   "source": [
    "<h3>Importing the required libraries</h3>"
   ]
  },
  {
   "cell_type": "code",
   "execution_count": 1,
   "id": "c9303ff1",
   "metadata": {},
   "outputs": [],
   "source": [
    "import pandas as pd\n",
    "import numpy as np"
   ]
  },
  {
   "cell_type": "markdown",
   "id": "21d8448a",
   "metadata": {},
   "source": [
    "<h3>Loading the Data</h3>"
   ]
  },
  {
   "cell_type": "code",
   "execution_count": 2,
   "id": "880a73e9",
   "metadata": {},
   "outputs": [],
   "source": [
    "df = pd.read_csv(\"Residential_Zoned_Land_Tax__Annual_Draft_Map_for_2025.csv\")"
   ]
  },
  {
   "cell_type": "markdown",
   "id": "b23c818a",
   "metadata": {},
   "source": [
    "<h3>Inspecting the Data Set</h3>"
   ]
  },
  {
   "cell_type": "code",
   "execution_count": 3,
   "id": "cf41549d",
   "metadata": {},
   "outputs": [
    {
     "data": {
      "text/html": [
       "<div>\n",
       "<style scoped>\n",
       "    .dataframe tbody tr th:only-of-type {\n",
       "        vertical-align: middle;\n",
       "    }\n",
       "\n",
       "    .dataframe tbody tr th {\n",
       "        vertical-align: top;\n",
       "    }\n",
       "\n",
       "    .dataframe thead th {\n",
       "        text-align: right;\n",
       "    }\n",
       "</style>\n",
       "<table border=\"1\" class=\"dataframe\">\n",
       "  <thead>\n",
       "    <tr style=\"text-align: right;\">\n",
       "      <th></th>\n",
       "      <th>OBJECTID</th>\n",
       "      <th>PARCEL_ID</th>\n",
       "      <th>LOCAL_AUTHORITY</th>\n",
       "      <th>LOCAL_AUTHORITY_NAME</th>\n",
       "      <th>DATE_ADDED</th>\n",
       "      <th>ZONE_ORIG</th>\n",
       "      <th>ZONE_DESC</th>\n",
       "      <th>ZONE_GZT</th>\n",
       "      <th>GZT_DESC</th>\n",
       "      <th>SITE_AREA</th>\n",
       "      <th>ZONE_SYMBOLOGY</th>\n",
       "      <th>AMENDS_ANNUALDRAFTMAP</th>\n",
       "      <th>Shape__Area</th>\n",
       "      <th>Shape__Length</th>\n",
       "    </tr>\n",
       "  </thead>\n",
       "  <tbody>\n",
       "    <tr>\n",
       "      <th>0</th>\n",
       "      <td>1</td>\n",
       "      <td>CWLACW59</td>\n",
       "      <td>CWLA</td>\n",
       "      <td>Carlow County Council</td>\n",
       "      <td>2022/07/04 00:00:00+00</td>\n",
       "      <td>Commercial / Residential</td>\n",
       "      <td>The purpose of this zoning is to reflect the e...</td>\n",
       "      <td>C6</td>\n",
       "      <td>Mixed / general / commercial / industrial / en...</td>\n",
       "      <td>0.014157</td>\n",
       "      <td>2</td>\n",
       "      <td>NaN</td>\n",
       "      <td>141.566162</td>\n",
       "      <td>71.547299</td>\n",
       "    </tr>\n",
       "    <tr>\n",
       "      <th>1</th>\n",
       "      <td>2</td>\n",
       "      <td>CWLACW58</td>\n",
       "      <td>CWLA</td>\n",
       "      <td>Carlow County Council</td>\n",
       "      <td>2022/07/04 00:00:00+00</td>\n",
       "      <td>Commercial / Residential</td>\n",
       "      <td>The purpose of this zoning is to reflect the e...</td>\n",
       "      <td>C6</td>\n",
       "      <td>Mixed / general / commercial / industrial / en...</td>\n",
       "      <td>0.219330</td>\n",
       "      <td>2</td>\n",
       "      <td>NaN</td>\n",
       "      <td>2193.298004</td>\n",
       "      <td>230.303043</td>\n",
       "    </tr>\n",
       "    <tr>\n",
       "      <th>2</th>\n",
       "      <td>3</td>\n",
       "      <td>CWLACW56</td>\n",
       "      <td>CWLA</td>\n",
       "      <td>Carlow County Council</td>\n",
       "      <td>2022/07/04 00:00:00+00</td>\n",
       "      <td>Commercial / Residential</td>\n",
       "      <td>The purpose of this zoning is to reflect the e...</td>\n",
       "      <td>C6</td>\n",
       "      <td>Mixed / general / commercial / industrial / en...</td>\n",
       "      <td>0.171585</td>\n",
       "      <td>2</td>\n",
       "      <td>NaN</td>\n",
       "      <td>1715.846100</td>\n",
       "      <td>168.575721</td>\n",
       "    </tr>\n",
       "    <tr>\n",
       "      <th>3</th>\n",
       "      <td>4</td>\n",
       "      <td>CWLABA2</td>\n",
       "      <td>CWLA</td>\n",
       "      <td>Carlow County Council</td>\n",
       "      <td>2022/07/04 00:00:00+00</td>\n",
       "      <td>New Residential</td>\n",
       "      <td>This is the primary location for new residenti...</td>\n",
       "      <td>R1</td>\n",
       "      <td>New / proposed residential, medium density</td>\n",
       "      <td>1.145583</td>\n",
       "      <td>1</td>\n",
       "      <td>NaN</td>\n",
       "      <td>11455.828033</td>\n",
       "      <td>447.493999</td>\n",
       "    </tr>\n",
       "    <tr>\n",
       "      <th>4</th>\n",
       "      <td>5</td>\n",
       "      <td>CWLABA1</td>\n",
       "      <td>CWLA</td>\n",
       "      <td>Carlow County Council</td>\n",
       "      <td>2022/07/04 00:00:00+00</td>\n",
       "      <td>New Residential</td>\n",
       "      <td>This is the primary location for new residenti...</td>\n",
       "      <td>R1</td>\n",
       "      <td>New / proposed residential, medium density</td>\n",
       "      <td>0.841397</td>\n",
       "      <td>1</td>\n",
       "      <td>NaN</td>\n",
       "      <td>8413.970551</td>\n",
       "      <td>387.821831</td>\n",
       "    </tr>\n",
       "  </tbody>\n",
       "</table>\n",
       "</div>"
      ],
      "text/plain": [
       "   OBJECTID PARCEL_ID LOCAL_AUTHORITY   LOCAL_AUTHORITY_NAME  \\\n",
       "0         1  CWLACW59            CWLA  Carlow County Council   \n",
       "1         2  CWLACW58            CWLA  Carlow County Council   \n",
       "2         3  CWLACW56            CWLA  Carlow County Council   \n",
       "3         4   CWLABA2            CWLA  Carlow County Council   \n",
       "4         5   CWLABA1            CWLA  Carlow County Council   \n",
       "\n",
       "               DATE_ADDED                 ZONE_ORIG  \\\n",
       "0  2022/07/04 00:00:00+00  Commercial / Residential   \n",
       "1  2022/07/04 00:00:00+00  Commercial / Residential   \n",
       "2  2022/07/04 00:00:00+00  Commercial / Residential   \n",
       "3  2022/07/04 00:00:00+00           New Residential   \n",
       "4  2022/07/04 00:00:00+00           New Residential   \n",
       "\n",
       "                                           ZONE_DESC ZONE_GZT  \\\n",
       "0  The purpose of this zoning is to reflect the e...       C6   \n",
       "1  The purpose of this zoning is to reflect the e...       C6   \n",
       "2  The purpose of this zoning is to reflect the e...       C6   \n",
       "3  This is the primary location for new residenti...       R1   \n",
       "4  This is the primary location for new residenti...       R1   \n",
       "\n",
       "                                            GZT_DESC  SITE_AREA  \\\n",
       "0  Mixed / general / commercial / industrial / en...   0.014157   \n",
       "1  Mixed / general / commercial / industrial / en...   0.219330   \n",
       "2  Mixed / general / commercial / industrial / en...   0.171585   \n",
       "3         New / proposed residential, medium density   1.145583   \n",
       "4         New / proposed residential, medium density   0.841397   \n",
       "\n",
       "   ZONE_SYMBOLOGY  AMENDS_ANNUALDRAFTMAP   Shape__Area  Shape__Length  \n",
       "0               2                    NaN    141.566162      71.547299  \n",
       "1               2                    NaN   2193.298004     230.303043  \n",
       "2               2                    NaN   1715.846100     168.575721  \n",
       "3               1                    NaN  11455.828033     447.493999  \n",
       "4               1                    NaN   8413.970551     387.821831  "
      ]
     },
     "execution_count": 3,
     "metadata": {},
     "output_type": "execute_result"
    }
   ],
   "source": [
    "df.head()"
   ]
  },
  {
   "cell_type": "code",
   "execution_count": 4,
   "id": "918587cc",
   "metadata": {},
   "outputs": [
    {
     "data": {
      "text/plain": [
       "(308210, 14)"
      ]
     },
     "execution_count": 4,
     "metadata": {},
     "output_type": "execute_result"
    }
   ],
   "source": [
    "df.shape"
   ]
  },
  {
   "cell_type": "code",
   "execution_count": 5,
   "id": "d3b6cef7",
   "metadata": {},
   "outputs": [],
   "source": [
    "# df.describe()"
   ]
  },
  {
   "cell_type": "code",
   "execution_count": 6,
   "id": "df6b037d",
   "metadata": {
    "scrolled": false
   },
   "outputs": [],
   "source": [
    "# df.info()"
   ]
  },
  {
   "cell_type": "code",
   "execution_count": 7,
   "id": "3dd864f7",
   "metadata": {
    "scrolled": true
   },
   "outputs": [
    {
     "data": {
      "text/plain": [
       "OBJECTID                      0\n",
       "PARCEL_ID                     0\n",
       "LOCAL_AUTHORITY               0\n",
       "LOCAL_AUTHORITY_NAME          0\n",
       "DATE_ADDED               214999\n",
       "ZONE_ORIG                   192\n",
       "ZONE_DESC                  4522\n",
       "ZONE_GZT                   2663\n",
       "GZT_DESC                 112716\n",
       "SITE_AREA                     0\n",
       "ZONE_SYMBOLOGY                0\n",
       "AMENDS_ANNUALDRAFTMAP    302551\n",
       "Shape__Area                   0\n",
       "Shape__Length                 0\n",
       "dtype: int64"
      ]
     },
     "execution_count": 7,
     "metadata": {},
     "output_type": "execute_result"
    }
   ],
   "source": [
    "df.isnull().sum()"
   ]
  },
  {
   "cell_type": "markdown",
   "id": "5cb4c999",
   "metadata": {},
   "source": [
    "<h3>Data Cleaning</h3>\n",
    "\n",
    "- Checking the types of data\n",
    "- Checking the missing or null values\n",
    "    - Irrelevant data\n",
    "    - Missing values\n",
    "    - Duplicates\n",
    "    - Type conversion\n",
    "    - Syntax errors\n",
    "    - Standardize\n",
    "    - Scaling / Transformation\n",
    "    - Normalisation\n",
    "- Dropping irrelevant columns\n",
    "- Renaming the columns\n",
    "- Checking the duplicate rows"
   ]
  },
  {
   "cell_type": "code",
   "execution_count": 8,
   "id": "b9d0a6b2",
   "metadata": {},
   "outputs": [
    {
     "data": {
      "text/plain": [
       "OBJECTID                   int64\n",
       "PARCEL_ID                 object\n",
       "LOCAL_AUTHORITY           object\n",
       "LOCAL_AUTHORITY_NAME      object\n",
       "DATE_ADDED                object\n",
       "ZONE_ORIG                 object\n",
       "ZONE_DESC                 object\n",
       "ZONE_GZT                  object\n",
       "GZT_DESC                  object\n",
       "SITE_AREA                float64\n",
       "ZONE_SYMBOLOGY             int64\n",
       "AMENDS_ANNUALDRAFTMAP    float64\n",
       "Shape__Area              float64\n",
       "Shape__Length            float64\n",
       "dtype: object"
      ]
     },
     "execution_count": 8,
     "metadata": {},
     "output_type": "execute_result"
    }
   ],
   "source": [
    "df.dtypes"
   ]
  },
  {
   "cell_type": "markdown",
   "id": "cedb8956",
   "metadata": {},
   "source": [
    "<h3>Checking the values on the features</h3>\n",
    "\n",
    "Attributes\n",
    "- Display name: Parcel ID - Name: PARCEL_ID\n",
    "- Display name: Local Authority - Name: LOCAL_AUTHORITY\n",
    "- Display name: Local Authority Name - Name: LOCAL_AUTHORITY_NAME\n",
    "- Display name: Date Added - Name: DATE_ADDED\n",
    "- Display name: Land Use Zoning - Name: ZONE_ORIG\n",
    "- Display name: Land Use Zoning Description - Name: ZONE_DESC\n",
    "- Display name: GZT Zoning - Name: ZONE_GZT\n",
    "- Display name: GZT Zoning Description - Name: GZT_DESC\n",
    "- Display name: Site Area - Name: SITE_AREA\n",
    "- Display name: Zone symbology - Name: ZONE_SYMBOLOGY\n",
    "- Display name: AMENDS_ANNUALDRAFTMAP - Name: AMENDS_ANNUALDRAFTMAP\n",
    "- Display name: Shape__Area - Name: Shape__Area\n",
    "- Display name: Shape__Length - Name: Shape__Length\n",
    "\n",
    "OBJECTID, PARCEL_ID, LOCAL_AUTHORITY, LOCAL_AUTHORITY_NAME, DATE_ADDED, ZONE_ORIG, ZONE_DESC, ZONE_GZT, GZT_DESC, SITE_AREA, ZONE_SYMBOLOGY, AMENDS_ANNUALDRAFTMAP, Shape__Area, Shape__Length"
   ]
  },
  {
   "cell_type": "code",
   "execution_count": 9,
   "id": "5c5cc02d",
   "metadata": {
    "scrolled": false
   },
   "outputs": [
    {
     "data": {
      "text/plain": [
       "array(['C6', 'R1', 'R2', 'M2', 'M3', 'M1', 'R1, R2', 'ZO02', 'ZO01',\n",
       "       'ZO04', 'ZO08', 'ZO03', 'ZO07', 'ZO05', 'ZO06', 'C5', 'R3', 'R4',\n",
       "       'G3', nan, 'G5', 'M4', 'C2.1', 'G1', 'CI', 'M5', 'C1.1', 'P1', 'C',\n",
       "       'R', 'G', 'C1', 'R3 SLR', 'R2 SLR', 'R1 SLR', 'NC', 'RE', 'C2',\n",
       "       'MIX', 'RES', 'TC', 'GB', 'RS', 'OS', 'RV'], dtype=object)"
      ]
     },
     "execution_count": 9,
     "metadata": {},
     "output_type": "execute_result"
    }
   ],
   "source": [
    "df[\"ZONE_GZT\"].unique()"
   ]
  },
  {
   "cell_type": "markdown",
   "id": "045276c2",
   "metadata": {},
   "source": [
    "<h4>Dropping irrelevant columns</h4>"
   ]
  },
  {
   "cell_type": "code",
   "execution_count": 10,
   "id": "5a61e067",
   "metadata": {
    "scrolled": false
   },
   "outputs": [
    {
     "data": {
      "text/plain": [
       "OBJECTID                 308210\n",
       "PARCEL_ID                308210\n",
       "LOCAL_AUTHORITY          308210\n",
       "LOCAL_AUTHORITY_NAME     308210\n",
       "DATE_ADDED                93211\n",
       "ZONE_ORIG                308018\n",
       "ZONE_DESC                303688\n",
       "ZONE_GZT                 305547\n",
       "GZT_DESC                 195494\n",
       "SITE_AREA                308210\n",
       "ZONE_SYMBOLOGY           308210\n",
       "AMENDS_ANNUALDRAFTMAP      5659\n",
       "Shape__Area              308210\n",
       "Shape__Length            308210\n",
       "dtype: int64"
      ]
     },
     "execution_count": 10,
     "metadata": {},
     "output_type": "execute_result"
    }
   ],
   "source": [
    "df.count()"
   ]
  },
  {
   "cell_type": "code",
   "execution_count": 11,
   "id": "60dace78",
   "metadata": {},
   "outputs": [
    {
     "data": {
      "text/plain": [
       "OBJECTID                      0\n",
       "PARCEL_ID                     0\n",
       "LOCAL_AUTHORITY               0\n",
       "LOCAL_AUTHORITY_NAME          0\n",
       "DATE_ADDED               214999\n",
       "ZONE_ORIG                   192\n",
       "ZONE_DESC                  4522\n",
       "ZONE_GZT                   2663\n",
       "GZT_DESC                 112716\n",
       "SITE_AREA                     0\n",
       "ZONE_SYMBOLOGY                0\n",
       "AMENDS_ANNUALDRAFTMAP    302551\n",
       "Shape__Area                   0\n",
       "Shape__Length                 0\n",
       "dtype: int64"
      ]
     },
     "execution_count": 11,
     "metadata": {},
     "output_type": "execute_result"
    }
   ],
   "source": [
    "df.isnull().sum()"
   ]
  },
  {
   "cell_type": "code",
   "execution_count": 12,
   "id": "e02a2286",
   "metadata": {
    "scrolled": true
   },
   "outputs": [
    {
     "data": {
      "text/html": [
       "<div>\n",
       "<style scoped>\n",
       "    .dataframe tbody tr th:only-of-type {\n",
       "        vertical-align: middle;\n",
       "    }\n",
       "\n",
       "    .dataframe tbody tr th {\n",
       "        vertical-align: top;\n",
       "    }\n",
       "\n",
       "    .dataframe thead th {\n",
       "        text-align: right;\n",
       "    }\n",
       "</style>\n",
       "<table border=\"1\" class=\"dataframe\">\n",
       "  <thead>\n",
       "    <tr style=\"text-align: right;\">\n",
       "      <th></th>\n",
       "      <th>OBJECTID</th>\n",
       "      <th>PARCEL_ID</th>\n",
       "      <th>LOCAL_AUTHORITY</th>\n",
       "      <th>LOCAL_AUTHORITY_NAME</th>\n",
       "      <th>ZONE_ORIG</th>\n",
       "      <th>ZONE_GZT</th>\n",
       "      <th>SITE_AREA</th>\n",
       "      <th>ZONE_SYMBOLOGY</th>\n",
       "      <th>Shape__Area</th>\n",
       "      <th>Shape__Length</th>\n",
       "    </tr>\n",
       "  </thead>\n",
       "  <tbody>\n",
       "    <tr>\n",
       "      <th>0</th>\n",
       "      <td>1</td>\n",
       "      <td>CWLACW59</td>\n",
       "      <td>CWLA</td>\n",
       "      <td>Carlow County Council</td>\n",
       "      <td>Commercial / Residential</td>\n",
       "      <td>C6</td>\n",
       "      <td>0.014157</td>\n",
       "      <td>2</td>\n",
       "      <td>141.566162</td>\n",
       "      <td>71.547299</td>\n",
       "    </tr>\n",
       "    <tr>\n",
       "      <th>1</th>\n",
       "      <td>2</td>\n",
       "      <td>CWLACW58</td>\n",
       "      <td>CWLA</td>\n",
       "      <td>Carlow County Council</td>\n",
       "      <td>Commercial / Residential</td>\n",
       "      <td>C6</td>\n",
       "      <td>0.219330</td>\n",
       "      <td>2</td>\n",
       "      <td>2193.298004</td>\n",
       "      <td>230.303043</td>\n",
       "    </tr>\n",
       "    <tr>\n",
       "      <th>2</th>\n",
       "      <td>3</td>\n",
       "      <td>CWLACW56</td>\n",
       "      <td>CWLA</td>\n",
       "      <td>Carlow County Council</td>\n",
       "      <td>Commercial / Residential</td>\n",
       "      <td>C6</td>\n",
       "      <td>0.171585</td>\n",
       "      <td>2</td>\n",
       "      <td>1715.846100</td>\n",
       "      <td>168.575721</td>\n",
       "    </tr>\n",
       "    <tr>\n",
       "      <th>3</th>\n",
       "      <td>4</td>\n",
       "      <td>CWLABA2</td>\n",
       "      <td>CWLA</td>\n",
       "      <td>Carlow County Council</td>\n",
       "      <td>New Residential</td>\n",
       "      <td>R1</td>\n",
       "      <td>1.145583</td>\n",
       "      <td>1</td>\n",
       "      <td>11455.828033</td>\n",
       "      <td>447.493999</td>\n",
       "    </tr>\n",
       "    <tr>\n",
       "      <th>4</th>\n",
       "      <td>5</td>\n",
       "      <td>CWLABA1</td>\n",
       "      <td>CWLA</td>\n",
       "      <td>Carlow County Council</td>\n",
       "      <td>New Residential</td>\n",
       "      <td>R1</td>\n",
       "      <td>0.841397</td>\n",
       "      <td>1</td>\n",
       "      <td>8413.970551</td>\n",
       "      <td>387.821831</td>\n",
       "    </tr>\n",
       "  </tbody>\n",
       "</table>\n",
       "</div>"
      ],
      "text/plain": [
       "   OBJECTID PARCEL_ID LOCAL_AUTHORITY   LOCAL_AUTHORITY_NAME  \\\n",
       "0         1  CWLACW59            CWLA  Carlow County Council   \n",
       "1         2  CWLACW58            CWLA  Carlow County Council   \n",
       "2         3  CWLACW56            CWLA  Carlow County Council   \n",
       "3         4   CWLABA2            CWLA  Carlow County Council   \n",
       "4         5   CWLABA1            CWLA  Carlow County Council   \n",
       "\n",
       "                  ZONE_ORIG ZONE_GZT  SITE_AREA  ZONE_SYMBOLOGY   Shape__Area  \\\n",
       "0  Commercial / Residential       C6   0.014157               2    141.566162   \n",
       "1  Commercial / Residential       C6   0.219330               2   2193.298004   \n",
       "2  Commercial / Residential       C6   0.171585               2   1715.846100   \n",
       "3           New Residential       R1   1.145583               1  11455.828033   \n",
       "4           New Residential       R1   0.841397               1   8413.970551   \n",
       "\n",
       "   Shape__Length  \n",
       "0      71.547299  \n",
       "1     230.303043  \n",
       "2     168.575721  \n",
       "3     447.493999  \n",
       "4     387.821831  "
      ]
     },
     "execution_count": 12,
     "metadata": {},
     "output_type": "execute_result"
    }
   ],
   "source": [
    "df = df.drop(['DATE_ADDED', 'ZONE_DESC', 'GZT_DESC', 'AMENDS_ANNUALDRAFTMAP'], axis = 1)\n",
    "\n",
    "df.head()"
   ]
  },
  {
   "cell_type": "code",
   "execution_count": 13,
   "id": "e35c7586",
   "metadata": {},
   "outputs": [
    {
     "data": {
      "text/plain": [
       "OBJECTID                   0\n",
       "PARCEL_ID                  0\n",
       "LOCAL_AUTHORITY            0\n",
       "LOCAL_AUTHORITY_NAME       0\n",
       "ZONE_ORIG                192\n",
       "ZONE_GZT                2663\n",
       "SITE_AREA                  0\n",
       "ZONE_SYMBOLOGY             0\n",
       "Shape__Area                0\n",
       "Shape__Length              0\n",
       "dtype: int64"
      ]
     },
     "execution_count": 13,
     "metadata": {},
     "output_type": "execute_result"
    }
   ],
   "source": [
    "df.isnull().sum()"
   ]
  },
  {
   "cell_type": "markdown",
   "id": "42e8e237",
   "metadata": {},
   "source": [
    "After checking ZONE_ORIG - Land Use Zoning, still has 192 NaN observations, Changing NaN or Null to \"Unknown\" for moment, because until at the momento I'm not clear enought if I can or not use these observations\n",
    "\n",
    "Same to ZONE_GZT - GZT Zoning, 2663 NaN observations"
   ]
  },
  {
   "cell_type": "code",
   "execution_count": 14,
   "id": "106481d7",
   "metadata": {
    "scrolled": true
   },
   "outputs": [],
   "source": [
    "df['ZONE_ORIG'] = df['ZONE_ORIG'].fillna('Unknown')\n",
    "df['ZONE_GZT'] = df['ZONE_GZT'].fillna('Unknown')"
   ]
  },
  {
   "cell_type": "code",
   "execution_count": 15,
   "id": "1dabe454",
   "metadata": {
    "scrolled": true
   },
   "outputs": [
    {
     "data": {
      "text/plain": [
       "OBJECTID                0\n",
       "PARCEL_ID               0\n",
       "LOCAL_AUTHORITY         0\n",
       "LOCAL_AUTHORITY_NAME    0\n",
       "ZONE_ORIG               0\n",
       "ZONE_GZT                0\n",
       "SITE_AREA               0\n",
       "ZONE_SYMBOLOGY          0\n",
       "Shape__Area             0\n",
       "Shape__Length           0\n",
       "dtype: int64"
      ]
     },
     "execution_count": 15,
     "metadata": {},
     "output_type": "execute_result"
    }
   ],
   "source": [
    "df.isnull().sum()"
   ]
  },
  {
   "cell_type": "code",
   "execution_count": 16,
   "id": "344cf6e7",
   "metadata": {},
   "outputs": [],
   "source": [
    "# df.count()"
   ]
  },
  {
   "cell_type": "code",
   "execution_count": 17,
   "id": "d55553d2",
   "metadata": {
    "scrolled": true
   },
   "outputs": [
    {
     "data": {
      "text/plain": [
       "OBJECTID                  int64\n",
       "PARCEL_ID                object\n",
       "LOCAL_AUTHORITY          object\n",
       "LOCAL_AUTHORITY_NAME     object\n",
       "ZONE_ORIG                object\n",
       "ZONE_GZT                 object\n",
       "SITE_AREA               float64\n",
       "ZONE_SYMBOLOGY            int64\n",
       "Shape__Area             float64\n",
       "Shape__Length           float64\n",
       "dtype: object"
      ]
     },
     "execution_count": 17,
     "metadata": {},
     "output_type": "execute_result"
    }
   ],
   "source": [
    "df.dtypes"
   ]
  },
  {
   "cell_type": "code",
   "execution_count": 18,
   "id": "f58548d6",
   "metadata": {
    "scrolled": true
   },
   "outputs": [
    {
     "data": {
      "text/html": [
       "<div>\n",
       "<style scoped>\n",
       "    .dataframe tbody tr th:only-of-type {\n",
       "        vertical-align: middle;\n",
       "    }\n",
       "\n",
       "    .dataframe tbody tr th {\n",
       "        vertical-align: top;\n",
       "    }\n",
       "\n",
       "    .dataframe thead th {\n",
       "        text-align: right;\n",
       "    }\n",
       "</style>\n",
       "<table border=\"1\" class=\"dataframe\">\n",
       "  <thead>\n",
       "    <tr style=\"text-align: right;\">\n",
       "      <th></th>\n",
       "      <th>OBJECTID</th>\n",
       "      <th>PARCEL_ID</th>\n",
       "      <th>LOCAL_AUTHORITY</th>\n",
       "      <th>LOCAL_AUTHORITY_NAME</th>\n",
       "      <th>ZONE_ORIG</th>\n",
       "      <th>ZONE_GZT</th>\n",
       "      <th>SITE_AREA</th>\n",
       "      <th>ZONE_SYMBOLOGY</th>\n",
       "      <th>Shape__Area</th>\n",
       "      <th>Shape__Length</th>\n",
       "    </tr>\n",
       "  </thead>\n",
       "  <tbody>\n",
       "    <tr>\n",
       "      <th>0</th>\n",
       "      <td>1</td>\n",
       "      <td>CWLACW59</td>\n",
       "      <td>CWLA</td>\n",
       "      <td>Carlow County Council</td>\n",
       "      <td>Commercial / Residential</td>\n",
       "      <td>C6</td>\n",
       "      <td>0.014157</td>\n",
       "      <td>2</td>\n",
       "      <td>141.566162</td>\n",
       "      <td>71.547299</td>\n",
       "    </tr>\n",
       "    <tr>\n",
       "      <th>1</th>\n",
       "      <td>2</td>\n",
       "      <td>CWLACW58</td>\n",
       "      <td>CWLA</td>\n",
       "      <td>Carlow County Council</td>\n",
       "      <td>Commercial / Residential</td>\n",
       "      <td>C6</td>\n",
       "      <td>0.219330</td>\n",
       "      <td>2</td>\n",
       "      <td>2193.298004</td>\n",
       "      <td>230.303043</td>\n",
       "    </tr>\n",
       "    <tr>\n",
       "      <th>2</th>\n",
       "      <td>3</td>\n",
       "      <td>CWLACW56</td>\n",
       "      <td>CWLA</td>\n",
       "      <td>Carlow County Council</td>\n",
       "      <td>Commercial / Residential</td>\n",
       "      <td>C6</td>\n",
       "      <td>0.171585</td>\n",
       "      <td>2</td>\n",
       "      <td>1715.846100</td>\n",
       "      <td>168.575721</td>\n",
       "    </tr>\n",
       "  </tbody>\n",
       "</table>\n",
       "</div>"
      ],
      "text/plain": [
       "   OBJECTID PARCEL_ID LOCAL_AUTHORITY   LOCAL_AUTHORITY_NAME  \\\n",
       "0         1  CWLACW59            CWLA  Carlow County Council   \n",
       "1         2  CWLACW58            CWLA  Carlow County Council   \n",
       "2         3  CWLACW56            CWLA  Carlow County Council   \n",
       "\n",
       "                  ZONE_ORIG ZONE_GZT  SITE_AREA  ZONE_SYMBOLOGY  Shape__Area  \\\n",
       "0  Commercial / Residential       C6   0.014157               2   141.566162   \n",
       "1  Commercial / Residential       C6   0.219330               2  2193.298004   \n",
       "2  Commercial / Residential       C6   0.171585               2  1715.846100   \n",
       "\n",
       "   Shape__Length  \n",
       "0      71.547299  \n",
       "1     230.303043  \n",
       "2     168.575721  "
      ]
     },
     "execution_count": 18,
     "metadata": {},
     "output_type": "execute_result"
    }
   ],
   "source": [
    "df.head(3)"
   ]
  },
  {
   "cell_type": "markdown",
   "id": "e1496438",
   "metadata": {},
   "source": [
    "<h4>Renaming the columns</h4>"
   ]
  },
  {
   "cell_type": "code",
   "execution_count": 19,
   "id": "6cf42415",
   "metadata": {
    "scrolled": true
   },
   "outputs": [
    {
     "data": {
      "text/html": [
       "<div>\n",
       "<style scoped>\n",
       "    .dataframe tbody tr th:only-of-type {\n",
       "        vertical-align: middle;\n",
       "    }\n",
       "\n",
       "    .dataframe tbody tr th {\n",
       "        vertical-align: top;\n",
       "    }\n",
       "\n",
       "    .dataframe thead th {\n",
       "        text-align: right;\n",
       "    }\n",
       "</style>\n",
       "<table border=\"1\" class=\"dataframe\">\n",
       "  <thead>\n",
       "    <tr style=\"text-align: right;\">\n",
       "      <th></th>\n",
       "      <th>OBJECT_ID</th>\n",
       "      <th>PARCEL_ID</th>\n",
       "      <th>LOCAL_AUTHORITY</th>\n",
       "      <th>LOCAL_AUTHORITY_NAME</th>\n",
       "      <th>ZONE_ORIG</th>\n",
       "      <th>ZONE_GZT</th>\n",
       "      <th>SITE_AREA</th>\n",
       "      <th>ZONE_SYMBOLOGY</th>\n",
       "      <th>SHAPE_AREA</th>\n",
       "      <th>SHAPE_LENGTH</th>\n",
       "    </tr>\n",
       "  </thead>\n",
       "  <tbody>\n",
       "    <tr>\n",
       "      <th>0</th>\n",
       "      <td>1</td>\n",
       "      <td>CWLACW59</td>\n",
       "      <td>CWLA</td>\n",
       "      <td>Carlow County Council</td>\n",
       "      <td>Commercial / Residential</td>\n",
       "      <td>C6</td>\n",
       "      <td>0.014157</td>\n",
       "      <td>2</td>\n",
       "      <td>141.566162</td>\n",
       "      <td>71.547299</td>\n",
       "    </tr>\n",
       "    <tr>\n",
       "      <th>1</th>\n",
       "      <td>2</td>\n",
       "      <td>CWLACW58</td>\n",
       "      <td>CWLA</td>\n",
       "      <td>Carlow County Council</td>\n",
       "      <td>Commercial / Residential</td>\n",
       "      <td>C6</td>\n",
       "      <td>0.219330</td>\n",
       "      <td>2</td>\n",
       "      <td>2193.298004</td>\n",
       "      <td>230.303043</td>\n",
       "    </tr>\n",
       "    <tr>\n",
       "      <th>2</th>\n",
       "      <td>3</td>\n",
       "      <td>CWLACW56</td>\n",
       "      <td>CWLA</td>\n",
       "      <td>Carlow County Council</td>\n",
       "      <td>Commercial / Residential</td>\n",
       "      <td>C6</td>\n",
       "      <td>0.171585</td>\n",
       "      <td>2</td>\n",
       "      <td>1715.846100</td>\n",
       "      <td>168.575721</td>\n",
       "    </tr>\n",
       "    <tr>\n",
       "      <th>3</th>\n",
       "      <td>4</td>\n",
       "      <td>CWLABA2</td>\n",
       "      <td>CWLA</td>\n",
       "      <td>Carlow County Council</td>\n",
       "      <td>New Residential</td>\n",
       "      <td>R1</td>\n",
       "      <td>1.145583</td>\n",
       "      <td>1</td>\n",
       "      <td>11455.828033</td>\n",
       "      <td>447.493999</td>\n",
       "    </tr>\n",
       "    <tr>\n",
       "      <th>4</th>\n",
       "      <td>5</td>\n",
       "      <td>CWLABA1</td>\n",
       "      <td>CWLA</td>\n",
       "      <td>Carlow County Council</td>\n",
       "      <td>New Residential</td>\n",
       "      <td>R1</td>\n",
       "      <td>0.841397</td>\n",
       "      <td>1</td>\n",
       "      <td>8413.970551</td>\n",
       "      <td>387.821831</td>\n",
       "    </tr>\n",
       "  </tbody>\n",
       "</table>\n",
       "</div>"
      ],
      "text/plain": [
       "   OBJECT_ID PARCEL_ID LOCAL_AUTHORITY   LOCAL_AUTHORITY_NAME  \\\n",
       "0          1  CWLACW59            CWLA  Carlow County Council   \n",
       "1          2  CWLACW58            CWLA  Carlow County Council   \n",
       "2          3  CWLACW56            CWLA  Carlow County Council   \n",
       "3          4   CWLABA2            CWLA  Carlow County Council   \n",
       "4          5   CWLABA1            CWLA  Carlow County Council   \n",
       "\n",
       "                  ZONE_ORIG ZONE_GZT  SITE_AREA  ZONE_SYMBOLOGY    SHAPE_AREA  \\\n",
       "0  Commercial / Residential       C6   0.014157               2    141.566162   \n",
       "1  Commercial / Residential       C6   0.219330               2   2193.298004   \n",
       "2  Commercial / Residential       C6   0.171585               2   1715.846100   \n",
       "3           New Residential       R1   1.145583               1  11455.828033   \n",
       "4           New Residential       R1   0.841397               1   8413.970551   \n",
       "\n",
       "   SHAPE_LENGTH  \n",
       "0     71.547299  \n",
       "1    230.303043  \n",
       "2    168.575721  \n",
       "3    447.493999  \n",
       "4    387.821831  "
      ]
     },
     "execution_count": 19,
     "metadata": {},
     "output_type": "execute_result"
    }
   ],
   "source": [
    "# Renaming the column names\n",
    "df = df.rename(columns = {\"OBJECTID\": \"OBJECT_ID\", \"Shape__Area\": \"SHAPE_AREA\", \"Shape__Length\": \"SHAPE_LENGTH\"})\n",
    "\n",
    "df.head()"
   ]
  },
  {
   "cell_type": "markdown",
   "id": "6b1a99f9",
   "metadata": {},
   "source": [
    "<h4>Checking if have duplicate observations</h4>"
   ]
  },
  {
   "cell_type": "code",
   "execution_count": 20,
   "id": "06ad471f",
   "metadata": {},
   "outputs": [
    {
     "name": "stdout",
     "output_type": "stream",
     "text": [
      "Number of duplicate rows:  (0, 10)\n"
     ]
    }
   ],
   "source": [
    "duplicate_rows_df = df[df.duplicated()]\n",
    "\n",
    "print(\"Number of duplicate rows: \", duplicate_rows_df.shape)"
   ]
  },
  {
   "cell_type": "code",
   "execution_count": null,
   "id": "c49b67bd",
   "metadata": {
    "scrolled": false
   },
   "outputs": [],
   "source": []
  },
  {
   "cell_type": "code",
   "execution_count": null,
   "id": "9e70892a",
   "metadata": {},
   "outputs": [],
   "source": []
  }
 ],
 "metadata": {
  "kernelspec": {
   "display_name": "Python 3 (ipykernel)",
   "language": "python",
   "name": "python3"
  },
  "language_info": {
   "codemirror_mode": {
    "name": "ipython",
    "version": 3
   },
   "file_extension": ".py",
   "mimetype": "text/x-python",
   "name": "python",
   "nbconvert_exporter": "python",
   "pygments_lexer": "ipython3",
   "version": "3.11.5"
  }
 },
 "nbformat": 4,
 "nbformat_minor": 5
}
