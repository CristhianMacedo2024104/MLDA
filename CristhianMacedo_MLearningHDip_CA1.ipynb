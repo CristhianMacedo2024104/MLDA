{
 "cells": [
  {
   "cell_type": "markdown",
   "id": "6e3aef51",
   "metadata": {},
   "source": [
    "<h1> Residential Zoned Land Tax Annual Draft Map for 2025 </h1>\n",
    "\n",
    "- Published by: Department of Housing, Local Government, and Heritage\n",
    "- Licensed under: cc-zero\n",
    "- Category: Housing\n",
    "- Views: 26\n",
    "- Openness rating: 3 stars\n",
    "\n",
    "<b>Description:</b> <br>\n",
    "The Government’s  Housing For All – A New Housing Plan for Ireland  proposed a new tax to activate vacant land for residential purposes as a part of the Pathway to Increasing New Housing Supply. The Residential Zoned Land Tax was introduced by the  Finance Act 2021. The dataset contains the land identified as being covered by the tax from all of the local authorities in the state.  The available datasets will comprise the draft annual map, published on 1 February 2024.  The draft map dataset published 1 November 2022, the supplemental map dataset published 1 May 2023 and the final map published 1 December 2023 are also available, however the annual draft map represents the most recent dataset of land identified as either being in-scope for the tax, or proposed to be removed from the map due to not meeting the criteria.  The dataset will identify serviced land in cities, towns and villages which is residentially zoned and ‘vacant or idle’ mixed use land. Unless specifically identified for removal, the lands identified on the maps are considered capable of increasing housing supply as they meet the criteria for inclusion in the tax. Certain settlements will not be identified due to lack of capacity or services or due to out of date zonings. The dataset will also identify the amount in hectares of zoned serviced land for each settlement.\n",
    "\n",
    "Reference:\n",
    "\n",
    "Government of Ireland (2024). Residential Zoned Land Tax Annual Draft Map for 2025 - data.gov.ie. [online] data.gov.ie. Available at: https://data.gov.ie/dataset/residential-zoned-land-tax-annual-draft-map-for-2025 [Accessed 15 Mar. 2024]."
   ]
  },
  {
   "cell_type": "markdown",
   "id": "a03f4f1f",
   "metadata": {},
   "source": [
    "<h3>Importing the required libraries</h3>"
   ]
  },
  {
   "cell_type": "code",
   "execution_count": 1,
   "id": "c9303ff1",
   "metadata": {},
   "outputs": [],
   "source": [
    "import pandas as pd\n",
    "import numpy as np"
   ]
  },
  {
   "cell_type": "markdown",
   "id": "21d8448a",
   "metadata": {},
   "source": [
    "<h3>Loading the Data</h3>"
   ]
  },
  {
   "cell_type": "code",
   "execution_count": 2,
   "id": "880a73e9",
   "metadata": {},
   "outputs": [],
   "source": [
    "df = pd.read_csv(\"Residential_Zoned_Land_Tax__Annual_Draft_Map_for_2025.csv\")"
   ]
  },
  {
   "cell_type": "markdown",
   "id": "b23c818a",
   "metadata": {},
   "source": [
    "<h3>Inspecting the Data Set</h3>"
   ]
  },
  {
   "cell_type": "code",
   "execution_count": 3,
   "id": "cf41549d",
   "metadata": {},
   "outputs": [
    {
     "data": {
      "text/html": [
       "<div>\n",
       "<style scoped>\n",
       "    .dataframe tbody tr th:only-of-type {\n",
       "        vertical-align: middle;\n",
       "    }\n",
       "\n",
       "    .dataframe tbody tr th {\n",
       "        vertical-align: top;\n",
       "    }\n",
       "\n",
       "    .dataframe thead th {\n",
       "        text-align: right;\n",
       "    }\n",
       "</style>\n",
       "<table border=\"1\" class=\"dataframe\">\n",
       "  <thead>\n",
       "    <tr style=\"text-align: right;\">\n",
       "      <th></th>\n",
       "      <th>OBJECTID</th>\n",
       "      <th>PARCEL_ID</th>\n",
       "      <th>LOCAL_AUTHORITY</th>\n",
       "      <th>LOCAL_AUTHORITY_NAME</th>\n",
       "      <th>DATE_ADDED</th>\n",
       "      <th>ZONE_ORIG</th>\n",
       "      <th>ZONE_DESC</th>\n",
       "      <th>ZONE_GZT</th>\n",
       "      <th>GZT_DESC</th>\n",
       "      <th>SITE_AREA</th>\n",
       "      <th>ZONE_SYMBOLOGY</th>\n",
       "      <th>AMENDS_ANNUALDRAFTMAP</th>\n",
       "      <th>Shape__Area</th>\n",
       "      <th>Shape__Length</th>\n",
       "    </tr>\n",
       "  </thead>\n",
       "  <tbody>\n",
       "    <tr>\n",
       "      <th>0</th>\n",
       "      <td>1</td>\n",
       "      <td>CWLACW59</td>\n",
       "      <td>CWLA</td>\n",
       "      <td>Carlow County Council</td>\n",
       "      <td>2022/07/04 00:00:00+00</td>\n",
       "      <td>Commercial / Residential</td>\n",
       "      <td>The purpose of this zoning is to reflect the e...</td>\n",
       "      <td>C6</td>\n",
       "      <td>Mixed / general / commercial / industrial / en...</td>\n",
       "      <td>0.014157</td>\n",
       "      <td>2</td>\n",
       "      <td>NaN</td>\n",
       "      <td>141.566162</td>\n",
       "      <td>71.547299</td>\n",
       "    </tr>\n",
       "    <tr>\n",
       "      <th>1</th>\n",
       "      <td>2</td>\n",
       "      <td>CWLACW58</td>\n",
       "      <td>CWLA</td>\n",
       "      <td>Carlow County Council</td>\n",
       "      <td>2022/07/04 00:00:00+00</td>\n",
       "      <td>Commercial / Residential</td>\n",
       "      <td>The purpose of this zoning is to reflect the e...</td>\n",
       "      <td>C6</td>\n",
       "      <td>Mixed / general / commercial / industrial / en...</td>\n",
       "      <td>0.219330</td>\n",
       "      <td>2</td>\n",
       "      <td>NaN</td>\n",
       "      <td>2193.298004</td>\n",
       "      <td>230.303043</td>\n",
       "    </tr>\n",
       "    <tr>\n",
       "      <th>2</th>\n",
       "      <td>3</td>\n",
       "      <td>CWLACW56</td>\n",
       "      <td>CWLA</td>\n",
       "      <td>Carlow County Council</td>\n",
       "      <td>2022/07/04 00:00:00+00</td>\n",
       "      <td>Commercial / Residential</td>\n",
       "      <td>The purpose of this zoning is to reflect the e...</td>\n",
       "      <td>C6</td>\n",
       "      <td>Mixed / general / commercial / industrial / en...</td>\n",
       "      <td>0.171585</td>\n",
       "      <td>2</td>\n",
       "      <td>NaN</td>\n",
       "      <td>1715.846100</td>\n",
       "      <td>168.575721</td>\n",
       "    </tr>\n",
       "    <tr>\n",
       "      <th>3</th>\n",
       "      <td>4</td>\n",
       "      <td>CWLABA2</td>\n",
       "      <td>CWLA</td>\n",
       "      <td>Carlow County Council</td>\n",
       "      <td>2022/07/04 00:00:00+00</td>\n",
       "      <td>New Residential</td>\n",
       "      <td>This is the primary location for new residenti...</td>\n",
       "      <td>R1</td>\n",
       "      <td>New / proposed residential, medium density</td>\n",
       "      <td>1.145583</td>\n",
       "      <td>1</td>\n",
       "      <td>NaN</td>\n",
       "      <td>11455.828033</td>\n",
       "      <td>447.493999</td>\n",
       "    </tr>\n",
       "    <tr>\n",
       "      <th>4</th>\n",
       "      <td>5</td>\n",
       "      <td>CWLABA1</td>\n",
       "      <td>CWLA</td>\n",
       "      <td>Carlow County Council</td>\n",
       "      <td>2022/07/04 00:00:00+00</td>\n",
       "      <td>New Residential</td>\n",
       "      <td>This is the primary location for new residenti...</td>\n",
       "      <td>R1</td>\n",
       "      <td>New / proposed residential, medium density</td>\n",
       "      <td>0.841397</td>\n",
       "      <td>1</td>\n",
       "      <td>NaN</td>\n",
       "      <td>8413.970551</td>\n",
       "      <td>387.821831</td>\n",
       "    </tr>\n",
       "  </tbody>\n",
       "</table>\n",
       "</div>"
      ],
      "text/plain": [
       "   OBJECTID PARCEL_ID LOCAL_AUTHORITY   LOCAL_AUTHORITY_NAME  \\\n",
       "0         1  CWLACW59            CWLA  Carlow County Council   \n",
       "1         2  CWLACW58            CWLA  Carlow County Council   \n",
       "2         3  CWLACW56            CWLA  Carlow County Council   \n",
       "3         4   CWLABA2            CWLA  Carlow County Council   \n",
       "4         5   CWLABA1            CWLA  Carlow County Council   \n",
       "\n",
       "               DATE_ADDED                 ZONE_ORIG  \\\n",
       "0  2022/07/04 00:00:00+00  Commercial / Residential   \n",
       "1  2022/07/04 00:00:00+00  Commercial / Residential   \n",
       "2  2022/07/04 00:00:00+00  Commercial / Residential   \n",
       "3  2022/07/04 00:00:00+00           New Residential   \n",
       "4  2022/07/04 00:00:00+00           New Residential   \n",
       "\n",
       "                                           ZONE_DESC ZONE_GZT  \\\n",
       "0  The purpose of this zoning is to reflect the e...       C6   \n",
       "1  The purpose of this zoning is to reflect the e...       C6   \n",
       "2  The purpose of this zoning is to reflect the e...       C6   \n",
       "3  This is the primary location for new residenti...       R1   \n",
       "4  This is the primary location for new residenti...       R1   \n",
       "\n",
       "                                            GZT_DESC  SITE_AREA  \\\n",
       "0  Mixed / general / commercial / industrial / en...   0.014157   \n",
       "1  Mixed / general / commercial / industrial / en...   0.219330   \n",
       "2  Mixed / general / commercial / industrial / en...   0.171585   \n",
       "3         New / proposed residential, medium density   1.145583   \n",
       "4         New / proposed residential, medium density   0.841397   \n",
       "\n",
       "   ZONE_SYMBOLOGY  AMENDS_ANNUALDRAFTMAP   Shape__Area  Shape__Length  \n",
       "0               2                    NaN    141.566162      71.547299  \n",
       "1               2                    NaN   2193.298004     230.303043  \n",
       "2               2                    NaN   1715.846100     168.575721  \n",
       "3               1                    NaN  11455.828033     447.493999  \n",
       "4               1                    NaN   8413.970551     387.821831  "
      ]
     },
     "execution_count": 3,
     "metadata": {},
     "output_type": "execute_result"
    }
   ],
   "source": [
    "df.head()"
   ]
  },
  {
   "cell_type": "code",
   "execution_count": null,
   "id": "918587cc",
   "metadata": {},
   "outputs": [],
   "source": [
    "df.shape"
   ]
  },
  {
   "cell_type": "code",
   "execution_count": null,
   "id": "d3b6cef7",
   "metadata": {},
   "outputs": [],
   "source": [
    "# df.describe()"
   ]
  },
  {
   "cell_type": "code",
   "execution_count": null,
   "id": "df6b037d",
   "metadata": {
    "scrolled": false
   },
   "outputs": [],
   "source": [
    "df.info()"
   ]
  },
  {
   "cell_type": "code",
   "execution_count": 4,
   "id": "3dd864f7",
   "metadata": {
    "scrolled": true
   },
   "outputs": [
    {
     "data": {
      "text/plain": [
       "OBJECTID                      0\n",
       "PARCEL_ID                     0\n",
       "LOCAL_AUTHORITY               0\n",
       "LOCAL_AUTHORITY_NAME          0\n",
       "DATE_ADDED               214999\n",
       "ZONE_ORIG                   192\n",
       "ZONE_DESC                  4522\n",
       "ZONE_GZT                   2663\n",
       "GZT_DESC                 112716\n",
       "SITE_AREA                     0\n",
       "ZONE_SYMBOLOGY                0\n",
       "AMENDS_ANNUALDRAFTMAP    302551\n",
       "Shape__Area                   0\n",
       "Shape__Length                 0\n",
       "dtype: int64"
      ]
     },
     "execution_count": 4,
     "metadata": {},
     "output_type": "execute_result"
    }
   ],
   "source": [
    "df.isnull().sum()"
   ]
  },
  {
   "cell_type": "markdown",
   "id": "5cb4c999",
   "metadata": {},
   "source": [
    "<h3>Data Cleaning</h3>\n",
    "\n",
    "- Checking the types of data\n",
    "    - Irrelevant data\n",
    "    - Duplicates\n",
    "    - Type conversion\n",
    "    - Syntax errors\n",
    "    - Standardize\n",
    "    - Scaling / Transformation\n",
    "    - Normalisation\n",
    "    - Missing values\n",
    "- Dropping irrelevant columns\n",
    "- Renaming the columns\n",
    "- Checking the duplicate rows\n",
    "- Checking the missing or null values"
   ]
  },
  {
   "cell_type": "code",
   "execution_count": null,
   "id": "b9d0a6b2",
   "metadata": {},
   "outputs": [],
   "source": [
    "df.dtypes"
   ]
  },
  {
   "cell_type": "code",
   "execution_count": 6,
   "id": "5c5cc02d",
   "metadata": {},
   "outputs": [
    {
     "data": {
      "text/plain": [
       "array(['2022/07/04 00:00:00+00', '2022/01/01 00:00:00+00',\n",
       "       '2022/07/11 00:00:00+00', '2024/01/01 00:00:00+00',\n",
       "       '2023/04/25 00:00:00+00', '2023/04/20 00:00:00+00',\n",
       "       '2022/08/08 00:00:00+00', nan, '2023/04/01 00:00:00+00',\n",
       "       '2022/01/01 12:00:00+00', '2022/06/06 00:00:00+00',\n",
       "       '2024/02/01 00:00:00+00', '2023/02/01 00:00:00+00',\n",
       "       '2022/12/14 00:00:00+00', '2023/09/04 00:00:00+00',\n",
       "       '2022/04/21 00:00:00+00', '2023/01/01 00:00:00+00',\n",
       "       '2023/04/05 00:00:00+00', '2023/10/30 00:00:00+00',\n",
       "       '2023/12/31 00:00:00+00', '2023/01/04 00:00:00+00',\n",
       "       '2023/08/09 00:00:00+00', '2022/09/29 00:00:00+00',\n",
       "       '2022/10/13 00:00:00+00', '2022/12/18 00:00:00+00',\n",
       "       '2022/10/14 00:00:00+00', '2022/10/17 00:00:00+00',\n",
       "       '2022/10/18 00:00:00+00', '2023/11/15 00:00:00+00',\n",
       "       '2023/01/28 00:00:00+00', '2023/12/06 00:00:00+00',\n",
       "       '2024/01/24 00:00:00+00', '2023/11/30 00:00:00+00',\n",
       "       '2022/01/25 00:00:00+00', '2023/03/31 00:00:00+00',\n",
       "       '2022/07/29 00:00:00+00', '2023/02/21 00:00:00+00',\n",
       "       '2024/01/31 00:00:00+00', '2022/08/09 00:00:00+00',\n",
       "       '1969/12/31 00:00:00+00', '2023/06/23 00:00:00+00',\n",
       "       '2023/08/28 00:00:00+00', '2022/08/03 00:00:00+00',\n",
       "       '2022/08/22 00:00:00+00', '2023/10/23 00:00:00+00',\n",
       "       '2023/04/12 00:00:00+00', '2023/11/21 00:00:00+00',\n",
       "       '2024/01/19 00:00:00+00', '2022/07/25 00:00:00+00',\n",
       "       '2022/11/01 00:00:00+00', '2022/10/01 00:00:00+00'], dtype=object)"
      ]
     },
     "execution_count": 6,
     "metadata": {},
     "output_type": "execute_result"
    }
   ],
   "source": [
    "df[\"DATE_ADDED\"].unique()"
   ]
  },
  {
   "cell_type": "code",
   "execution_count": null,
   "id": "e35c7586",
   "metadata": {},
   "outputs": [],
   "source": []
  }
 ],
 "metadata": {
  "kernelspec": {
   "display_name": "Python 3 (ipykernel)",
   "language": "python",
   "name": "python3"
  },
  "language_info": {
   "codemirror_mode": {
    "name": "ipython",
    "version": 3
   },
   "file_extension": ".py",
   "mimetype": "text/x-python",
   "name": "python",
   "nbconvert_exporter": "python",
   "pygments_lexer": "ipython3",
   "version": "3.11.5"
  }
 },
 "nbformat": 4,
 "nbformat_minor": 5
}
